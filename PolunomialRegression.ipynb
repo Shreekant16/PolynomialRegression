{
  "nbformat": 4,
  "nbformat_minor": 0,
  "metadata": {
    "colab": {
      "provenance": []
    },
    "kernelspec": {
      "name": "python3",
      "display_name": "Python 3"
    },
    "language_info": {
      "name": "python"
    }
  },
  "cells": [
    {
      "cell_type": "markdown",
      "source": [
        "Importing Libraries"
      ],
      "metadata": {
        "id": "4LuHkQ0GU0eS"
      }
    },
    {
      "cell_type": "code",
      "execution_count": 2,
      "metadata": {
        "id": "XpP6QI28Uyh6"
      },
      "outputs": [],
      "source": [
        "import pandas as pd\n",
        "import numpy as np\n",
        "import matplotlib.pyplot as plt"
      ]
    },
    {
      "cell_type": "markdown",
      "source": [
        "Importing dataset"
      ],
      "metadata": {
        "id": "tG7mAPAJU_GJ"
      }
    },
    {
      "cell_type": "code",
      "source": [
        "dataset = pd.read_csv(\"Position_Salaries.csv\")\n",
        "x = dataset.iloc[:,1:-1].values\n",
        "y = dataset.iloc[:,-1].values"
      ],
      "metadata": {
        "id": "KB2dZqv0U-G6"
      },
      "execution_count": 3,
      "outputs": []
    },
    {
      "cell_type": "markdown",
      "source": [
        "We will not split the data into training and test set because the dataset is already limited/small\n"
      ],
      "metadata": {
        "id": "fAj7_pjHVTGR"
      }
    },
    {
      "cell_type": "markdown",
      "source": [
        "Training the linear regresssion model on dataset"
      ],
      "metadata": {
        "id": "EkAMfjPAVczZ"
      }
    },
    {
      "cell_type": "code",
      "source": [
        "from sklearn.linear_model import LinearRegression\n",
        "regressor = LinearRegression()\n",
        "regressor.fit(x,y)"
      ],
      "metadata": {
        "colab": {
          "base_uri": "https://localhost:8080/"
        },
        "id": "7_bRz-mGVp3Y",
        "outputId": "4f5f1749-decd-4923-f3e7-49b93f88c09e"
      },
      "execution_count": 4,
      "outputs": [
        {
          "output_type": "execute_result",
          "data": {
            "text/plain": [
              "LinearRegression()"
            ]
          },
          "metadata": {},
          "execution_count": 4
        }
      ]
    },
    {
      "cell_type": "markdown",
      "source": [
        "Visualising the Linear Regression Model"
      ],
      "metadata": {
        "id": "odlxCwgKV-Yq"
      }
    },
    {
      "cell_type": "code",
      "source": [
        "plt.scatter(x,y,color='red')\n",
        "plt.plot(x, regressor.predict(x))\n",
        "plt.show()"
      ],
      "metadata": {
        "colab": {
          "base_uri": "https://localhost:8080/",
          "height": 276
        },
        "id": "rfskSK_fWCWQ",
        "outputId": "afae7d18-3aa9-4051-99ea-d9450c9d458f"
      },
      "execution_count": 5,
      "outputs": [
        {
          "output_type": "display_data",
          "data": {
            "text/plain": [
              "<Figure size 432x288 with 1 Axes>"
            ],
            "image/png": "[encoded data removed]"
          },
          "metadata": {
            "needs_background": "light"
          }
        }
      ]
    },
    {
      "cell_type": "markdown",
      "source": [
        "Training Polynomial Regression model on the dataset\n"
      ],
      "metadata": {
        "id": "VWRaH1DVWiYG"
      }
    },
    {
      "cell_type": "code",
      "source": [
        "from sklearn.preprocessing import PolynomialFeatures\n",
        "poly_fet = PolynomialFeatures(degree=4)\n",
        "x_poly = poly_fet.fit_transform(x)\n",
        "regressor2 = LinearRegression()\n",
        "regressor2.fit(x_poly,y)"
      ],
      "metadata": {
        "colab": {
          "base_uri": "https://localhost:8080/"
        },
        "id": "ivVxZI6OWmKd",
        "outputId": "dfdc3b48-0fdf-4ca9-8711-3435c999282f"
      },
      "execution_count": 13,
      "outputs": [
        {
          "output_type": "execute_result",
          "data": {
            "text/plain": [
              "LinearRegression()"
            ]
          },
          "metadata": {},
          "execution_count": 13
        }
      ]
    },
    {
      "cell_type": "markdown",
      "source": [
        "Visualing for Polynomial regression model"
      ],
      "metadata": {
        "id": "FL_IGLNzXKxh"
      }
    },
    {
      "cell_type": "code",
      "source": [
        "plt.scatter(x,y, color='red')\n",
        "plt.plot(x, regressor2.predict(x_poly))\n",
        "plt.show()"
      ],
      "metadata": {
        "colab": {
          "base_uri": "https://localhost:8080/",
          "height": 276
        },
        "id": "4N-CDl-CW8eD",
        "outputId": "902cc890-1572-463e-d496-c1478599f960"
      },
      "execution_count": 14,
      "outputs": [
        {
          "output_type": "display_data",
          "data": {
            "text/plain": [
              "<Figure size 432x288 with 1 Axes>"
            ],
            "image/png": "[encoded data removed]"
          },
          "metadata": {
            "needs_background": "light"
          }
        }
      ]
    },
    {
      "cell_type": "markdown",
      "source": [
        "Predicting new results with Linear regrssion\n"
      ],
      "metadata": {
        "id": "SE9xBFdNXP8z"
      }
    },
    {
      "cell_type": "code",
      "source": [
        "regressor.predict([[6.5]])"
      ],
      "metadata": {
        "colab": {
          "base_uri": "https://localhost:8080/"
        },
        "id": "fJa5r5e7XSoY",
        "outputId": "5ec11224-6db4-4bb3-b2f6-1d8788db2e73"
      },
      "execution_count": 10,
      "outputs": [
        {
          "output_type": "execute_result",
          "data": {
            "text/plain": [
              "array([330378.78787879])"
            ]
          },
          "metadata": {},
          "execution_count": 10
        }
      ]
    },
    {
      "cell_type": "markdown",
      "source": [
        "Predicting new results with Polynomial Regression"
      ],
      "metadata": {
        "id": "hPoDlLNDXaUT"
      }
    },
    {
      "cell_type": "code",
      "source": [
        "regressor2.predict(poly_fet.fit_transform([[6.5]]))"
      ],
      "metadata": {
        "colab": {
          "base_uri": "https://localhost:8080/"
        },
        "id": "BSBeW8z6X126",
        "outputId": "0a7c698e-60c0-44a6-d47e-de62d502d461"
      },
      "execution_count": 12,
      "outputs": [
        {
          "output_type": "execute_result",
          "data": {
            "text/plain": [
              "array([189498.10606061])"
            ]
          },
          "metadata": {},
          "execution_count": 12
        }
      ]
    }
  ]
}